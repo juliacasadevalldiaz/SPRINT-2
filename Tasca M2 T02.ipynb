{
 "cells": [
  {
   "cell_type": "markdown",
   "id": "adb8c8ac",
   "metadata": {},
   "source": [
    "# Tasca M2 T02\n",
    "Exercicis d'estructures de control amb Python.\n",
    "## - Exercici 1\n",
    "**L'exercici consisteix a crear una funció que et classifiqui una variable numèrica en funció de l’escala Suspès/Aprovat/Notable/Excel·lent.**\n",
    "\n",
    "*Recorda que Suspès < 5, Aprovat > 5 i < 7, Notable > 7 i < 9 i Excel·lent > 9.*"
   ]
  },
  {
   "cell_type": "code",
   "execution_count": 37,
   "id": "bdb1515c",
   "metadata": {},
   "outputs": [],
   "source": [
    "def qualificacio(nota):\n",
    "    if nota < 0:\n",
    "        print(\"Nota no vàlida\")\n",
    "    elif nota < 5: \n",
    "        print(\"Suspès\")\n",
    "    elif nota < 7:\n",
    "        print(\"Aprovat\")\n",
    "    elif nota < 9:\n",
    "        print(\"Notable\")\n",
    "    elif nota <= 10: \n",
    "        print(\"Exel·lent\")\n",
    "    else:\n",
    "        print(\"Nota no vàlida\")\n",
    "    "
   ]
  },
  {
   "cell_type": "code",
   "execution_count": 35,
   "id": "cdcc4555",
   "metadata": {},
   "outputs": [
    {
     "name": "stdout",
     "output_type": "stream",
     "text": [
      "Nota no vàlida\n"
     ]
    }
   ],
   "source": [
    "qualificacio(12)"
   ]
  },
  {
   "cell_type": "markdown",
   "id": "121840a7",
   "metadata": {},
   "source": [
    "## - Exercici 2\n",
    "**Utilitzant el següent tutorial crea una funció que et pregunti dos números. T’ha de mostrar un missatge dient si el primer és més gran, el segon és més gran o són iguals.**"
   ]
  },
  {
   "cell_type": "code",
   "execution_count": 41,
   "id": "bfbe2d0a",
   "metadata": {},
   "outputs": [],
   "source": [
    "def valor (x1,x2):\n",
    "    if x1 > x2:\n",
    "        print(x1, \"és major que\", x2)\n",
    "    if x1 < x2:\n",
    "        print(x1, \"és més petit que\", x2)\n",
    "    if x1 == x2:\n",
    "        print(x1, \"té el mateix valor que\", x2)"
   ]
  },
  {
   "cell_type": "code",
   "execution_count": 42,
   "id": "2d27417e",
   "metadata": {},
   "outputs": [
    {
     "name": "stdout",
     "output_type": "stream",
     "text": [
      "4 és més petit que 5\n"
     ]
    }
   ],
   "source": [
    "valor (4,5)"
   ]
  },
  {
   "cell_type": "code",
   "execution_count": 43,
   "id": "ce2bb2a4",
   "metadata": {},
   "outputs": [
    {
     "name": "stdout",
     "output_type": "stream",
     "text": [
      "6 és major que 5\n"
     ]
    }
   ],
   "source": [
    "valor (6,5)"
   ]
  },
  {
   "cell_type": "code",
   "execution_count": 44,
   "id": "0b38d3f7",
   "metadata": {},
   "outputs": [
    {
     "name": "stdout",
     "output_type": "stream",
     "text": [
      "5 té el mateix valor que 5\n"
     ]
    }
   ],
   "source": [
    "valor (5,5)"
   ]
  },
  {
   "cell_type": "markdown",
   "id": "c4a24d4e",
   "metadata": {},
   "source": [
    "## - Exercici 3\n",
    "**Crea una funció que et pregunti el teu nom, i et demani un número. Si el número és 0, hauria de mostrar un missatge d’error. En cas contrari, hauria de mostrar el nom repetit tants cops com indiqui el número. Per exemple, “Joan Joan Joan”.**"
   ]
  },
  {
   "cell_type": "code",
   "execution_count": 63,
   "id": "75d9a8de",
   "metadata": {},
   "outputs": [],
   "source": [
    "def funcio3 (nom, num):\n",
    "    if num == 0:\n",
    "        print(\"Error\")\n",
    "    else:\n",
    "        print(nom*num)"
   ]
  },
  {
   "cell_type": "code",
   "execution_count": 68,
   "id": "b98606f2",
   "metadata": {},
   "outputs": [
    {
     "name": "stdout",
     "output_type": "stream",
     "text": [
      "Júlia Júlia Júlia Júlia Júlia Júlia Júlia Júlia \n"
     ]
    }
   ],
   "source": [
    "funcio3('Júlia ', 8)"
   ]
  },
  {
   "cell_type": "markdown",
   "id": "87d1fbef",
   "metadata": {},
   "source": [
    "## - Exercici 4\n",
    "**Crea una funció que donada una llista qualsevol, et digui si és simètrica o no. Si ho és, que et digui quants elements té.**"
   ]
  },
  {
   "cell_type": "code",
   "execution_count": 77,
   "id": "aa607c7f",
   "metadata": {},
   "outputs": [],
   "source": [
    "def simetria(llista):\n",
    "    if len(llista) == 0:\n",
    "        print(\"ERROR\")\n",
    "    elif llista ==llista[::-1]:\n",
    "        print('La llista és simetrica')\n",
    "    else:\n",
    "        print('La llista no és simetrica')\n"
   ]
  },
  {
   "cell_type": "code",
   "execution_count": 76,
   "id": "57b0c0ba",
   "metadata": {},
   "outputs": [
    {
     "name": "stdout",
     "output_type": "stream",
     "text": [
      "La llista no és simetrica\n"
     ]
    }
   ],
   "source": [
    "llista = (1, 2, 3, 4)\n",
    "simetria(llista)"
   ]
  },
  {
   "cell_type": "code",
   "execution_count": 80,
   "id": "b8495c96",
   "metadata": {},
   "outputs": [
    {
     "name": "stdout",
     "output_type": "stream",
     "text": [
      "La llista és simetrica\n"
     ]
    }
   ],
   "source": [
    "llista1 = (1, 2, 2,1)\n",
    "simetria(llista1)"
   ]
  },
  {
   "cell_type": "markdown",
   "id": "494afb11",
   "metadata": {},
   "source": [
    "## - Exercici 5\n",
    "**Crea una funció que donada una llista, et digui quants números coincideixen amb la seva posició. Per exemple [3,4,2,0,2,3,6] el 2 i el 6 coincideixen.**"
   ]
  },
  {
   "cell_type": "code",
   "execution_count": 30,
   "id": "f8acdf20",
   "metadata": {},
   "outputs": [
    {
     "name": "stdout",
     "output_type": "stream",
     "text": [
      "Coincideixen els números: 0, 1, 6 i 11 .\n"
     ]
    }
   ],
   "source": [
    "#llista exemple:\n",
    "x = [0,1,4,7,2,8,6,8,3,78,2,11]\n",
    "\n",
    "#defineixo la funció:\n",
    "def coincidencia(x):\n",
    "    \n",
    "    #creo una llista:\n",
    "    coincidencia = []\n",
    "    \n",
    "    for i in range(len(x)):\n",
    "        if i == x[i]: \n",
    "            coincidencia.append(i)\n",
    "    return(coincidencia)\n",
    "\n",
    "#si no hi ha coincidencies:\n",
    "if len(coincidencia(x)) == 0:\n",
    "    print('No shan trobat coincidencies amb la seva posició en aquesta llista')\n",
    "    \n",
    "#si només coincideix un valor:\n",
    "elif len(coincidencia(x)) == 1:\n",
    "    print('El numero', str(coincidencia(x)[0]), 'coincideix amb la seva posició.')\n",
    "    \n",
    "#si coincideixen més d'un valor:\n",
    "else:\n",
    "    alfa = [str(valor) for valor in coincidencia(x)[:-1]]\n",
    "    resultat = \", \".join(alfa) + \" i \" + str(coincidencia(x)[-1])\n",
    "    print(\"Coincideixen els números:\", resultat,'.')\n",
    "    "
   ]
  }
 ],
 "metadata": {
  "kernelspec": {
   "display_name": "Python 3 (ipykernel)",
   "language": "python",
   "name": "python3"
  },
  "language_info": {
   "codemirror_mode": {
    "name": "ipython",
    "version": 3
   },
   "file_extension": ".py",
   "mimetype": "text/x-python",
   "name": "python",
   "nbconvert_exporter": "python",
   "pygments_lexer": "ipython3",
   "version": "3.11.4"
  }
 },
 "nbformat": 4,
 "nbformat_minor": 5
}
