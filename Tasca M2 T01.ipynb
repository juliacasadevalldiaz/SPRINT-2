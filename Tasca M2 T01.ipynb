{
 "cells": [
  {
   "cell_type": "markdown",
   "id": "1491ad40",
   "metadata": {},
   "source": [
    "# Tasca M2 T01 \n",
    "## Exercici 1\n",
    "**Crea una llista que agrupi els mesos de l’any en trimestres (1T: gener, febrer i març; 2T: abril, maig, juny...), és a dir, una llista amb 4 llistes dins.**"
   ]
  },
  {
   "cell_type": "code",
   "execution_count": 15,
   "id": "2def29e1",
   "metadata": {},
   "outputs": [
    {
     "name": "stdout",
     "output_type": "stream",
     "text": [
      "[['gener', 'febrer', 'març'], ['abril', 'maig', 'juny'], ['juliol', 'agost', 'setembre'], ['octubre', 'novembre', 'desembre']]\n"
     ]
    }
   ],
   "source": [
    "T1 = [\"gener\", \"febrer\", \"març\"]\n",
    "T2 = [\"abril\", \"maig\", \"juny\"]\n",
    "T3 = [\"juliol\", \"agost\", \"setembre\"]\n",
    "T4 = [\"octubre\", \"novembre\", \"desembre\"]\n",
    "\n",
    "Trimestres = [T1, T2, T3, T4]\n",
    "print(Trimestres)"
   ]
  },
  {
   "cell_type": "markdown",
   "id": "d1b03392",
   "metadata": {},
   "source": [
    "## - Exercici 2\n",
    "**Crea un codi que et permeti accedir a:**\n",
    "\n",
    "- **El segon mes del primer trimestre.**\n",
    "- **Els mesos del primer trimestre.**\n",
    "- **Setembre i octubre.**\n"
   ]
  },
  {
   "cell_type": "code",
   "execution_count": 14,
   "id": "9c21688c",
   "metadata": {},
   "outputs": [
    {
     "name": "stdout",
     "output_type": "stream",
     "text": [
      "febrer\n",
      "('gener', 'febrer', 'març')\n",
      "setembre octubre\n"
     ]
    }
   ],
   "source": [
    "print(Trimestres[0][-2])\n",
    "print(Trimestres[0])\n",
    "print(Trimestres[2][2], Trimestres[3][0])"
   ]
  },
  {
   "cell_type": "markdown",
   "id": "f007edea",
   "metadata": {},
   "source": [
    "## - Exercici 3\n",
    "**Crea una llista amb nombres desordenats i respon a les següents preguntes:**"
   ]
  },
  {
   "cell_type": "code",
   "execution_count": 49,
   "id": "5cb6f22f",
   "metadata": {},
   "outputs": [],
   "source": [
    "lista1 = [3,6,2,9,4,2,5,7,83]"
   ]
  },
  {
   "cell_type": "markdown",
   "id": "8f160ea6",
   "metadata": {},
   "source": [
    "- **Quants números hi ha?**"
   ]
  },
  {
   "cell_type": "code",
   "execution_count": 50,
   "id": "7e87ddfb",
   "metadata": {},
   "outputs": [],
   "source": [
    "def quants_numeros(t):\n",
    " if(len(t)) == 1:\n",
    "    print (\"Hi ha\", len(t), \"número.\")\n",
    " else:\n",
    "    print (\"Hi ha\", len(t), \"números.\")"
   ]
  },
  {
   "cell_type": "code",
   "execution_count": 51,
   "id": "82379711",
   "metadata": {},
   "outputs": [
    {
     "name": "stdout",
     "output_type": "stream",
     "text": [
      "Hi ha 9 números.\n"
     ]
    }
   ],
   "source": [
    "quants_numeros(lista1)"
   ]
  },
  {
   "cell_type": "markdown",
   "id": "905a7849",
   "metadata": {},
   "source": [
    "- **Quantes vegades apareix el número 3.**"
   ]
  },
  {
   "cell_type": "code",
   "execution_count": 56,
   "id": "34c6132a",
   "metadata": {},
   "outputs": [
    {
     "name": "stdout",
     "output_type": "stream",
     "text": [
      "El número 3 apareix 1 cop.\n"
     ]
    }
   ],
   "source": [
    "calcul = lista1.count(3)\n",
    "print(\"El número 3 apareix\", calcul, \"cop.\")"
   ]
  },
  {
   "cell_type": "markdown",
   "id": "1f75d3d0",
   "metadata": {},
   "source": [
    "- **Quantes vegades apareixen els nombres 3 i 4?**"
   ]
  },
  {
   "cell_type": "code",
   "execution_count": 65,
   "id": "8d0c1ed9",
   "metadata": {},
   "outputs": [],
   "source": [
    "def contador(t):\n",
    " if(calcul == 1):\n",
    "    print(\"El número 3 apareix\", calcul, \"cop.\")\n",
    " elif(calcul>1):\n",
    "    print(\"El número 3 apareix\", calcul, \"cops.\")\n",
    " if(calcul1 ==1):\n",
    "    print(\"El número 4 apareix\", calcul1, \"cop.\")\n",
    " elif(calcul1>1):\n",
    "    print(\"El número 4 apareix\", calcul, \"cops.\")\n",
    " "
   ]
  },
  {
   "cell_type": "code",
   "execution_count": 63,
   "id": "d7785a40",
   "metadata": {},
   "outputs": [
    {
     "name": "stdout",
     "output_type": "stream",
     "text": [
      "El número 3 apareix 1 cop.\n",
      "El número 4 apareix 1 cop.\n"
     ]
    }
   ],
   "source": [
    "contador(lista1)"
   ]
  },
  {
   "cell_type": "markdown",
   "id": "49433959",
   "metadata": {},
   "source": [
    "- **Quin és el número més gran?**"
   ]
  },
  {
   "cell_type": "code",
   "execution_count": 66,
   "id": "dd311576",
   "metadata": {},
   "outputs": [
    {
     "name": "stdout",
     "output_type": "stream",
     "text": [
      "El valor màxim de la llista és 83\n"
     ]
    }
   ],
   "source": [
    "maxim = max(lista1)\n",
    "print(\"El valor màxim de la llista és\", maxim)"
   ]
  },
  {
   "cell_type": "markdown",
   "id": "16a9f3ba",
   "metadata": {},
   "source": [
    "- **Quins són els 3 números més petits?**"
   ]
  },
  {
   "cell_type": "code",
   "execution_count": 67,
   "id": "864096a9",
   "metadata": {},
   "outputs": [
    {
     "name": "stdout",
     "output_type": "stream",
     "text": [
      "Els 3 números més petits són [2, 2, 3]\n"
     ]
    }
   ],
   "source": [
    "minims3 = sorted(lista1)[:3]\n",
    "print(\"Els 3 números més petits són\", minims3)"
   ]
  },
  {
   "cell_type": "markdown",
   "id": "16dbd3e4",
   "metadata": {},
   "source": [
    "- **Quin és el rang d’aquesta llista?**"
   ]
  },
  {
   "cell_type": "code",
   "execution_count": 68,
   "id": "d9250001",
   "metadata": {},
   "outputs": [
    {
     "name": "stdout",
     "output_type": "stream",
     "text": [
      "El rang de la llista és 81\n"
     ]
    }
   ],
   "source": [
    "rang = max(lista1)-min(lista1)\n",
    "print(\"El rang de la llista és\", rang)"
   ]
  },
  {
   "cell_type": "markdown",
   "id": "05a8bfa1",
   "metadata": {},
   "source": [
    "## - Exercici 4\n",
    "**Crea un diccionari de la següent forma i respon a les preguntes:**"
   ]
  },
  {
   "cell_type": "code",
   "execution_count": 77,
   "id": "21333767",
   "metadata": {},
   "outputs": [],
   "source": [
    "compra = { \"Pomes\" : {\"Qty\": 5, \"€\": 0.42}, \"Peres\" : {\"Qty\": 3, \"€\": 0.66} }"
   ]
  },
  {
   "cell_type": "code",
   "execution_count": 112,
   "id": "98ab5951",
   "metadata": {},
   "outputs": [
    {
     "name": "stdout",
     "output_type": "stream",
     "text": [
      "dict_keys(['Pomes', 'Peres', 'Kiwis'])\n",
      "dict_values([{'Qty': 5, '€': 0.42}, {'Qty': 3, '€': 0.66}, {'Qty': 6, '€': 3.22}])\n"
     ]
    }
   ],
   "source": [
    "print(compra.keys())\n",
    "print(compra.values())"
   ]
  },
  {
   "cell_type": "markdown",
   "id": "5210910c",
   "metadata": {},
   "source": [
    "- **Afegeix alguna fruita més**"
   ]
  },
  {
   "cell_type": "code",
   "execution_count": 80,
   "id": "356f042b",
   "metadata": {},
   "outputs": [
    {
     "name": "stdout",
     "output_type": "stream",
     "text": [
      "{'Pomes': {'Qty': 5, '€': 0.42}, 'Peres': {'Qty': 3, '€': 0.66}, 'Kiwis': {'Qty': 6, '€': 3.22}}\n"
     ]
    }
   ],
   "source": [
    "compra[\"Kiwis\"] = {\"Qty\": 6, \"€\": 3.22}\n",
    "print(compra)"
   ]
  },
  {
   "cell_type": "markdown",
   "id": "aae3f88c",
   "metadata": {},
   "source": [
    "- **Quant han costat les peres en total?**"
   ]
  },
  {
   "cell_type": "code",
   "execution_count": 88,
   "id": "afb76abe",
   "metadata": {},
   "outputs": [
    {
     "name": "stdout",
     "output_type": "stream",
     "text": [
      "1.98\n"
     ]
    }
   ],
   "source": [
    "Numero_de_peres = compra[\"Peres\"][\"Qty\"]\n",
    "Preu_peres = compra[\"Peres\"][\"€\"]\n",
    "\n",
    "PREU = Numero_de_peres*Preu_peres\n",
    "print(PREU)"
   ]
  },
  {
   "cell_type": "markdown",
   "id": "5a6f8f69",
   "metadata": {},
   "source": [
    "- **Quantes fruites hem comprat en total?**"
   ]
  },
  {
   "cell_type": "code",
   "execution_count": 175,
   "id": "40ee0d3d",
   "metadata": {},
   "outputs": [
    {
     "data": {
      "text/plain": [
       "14"
      ]
     },
     "execution_count": 175,
     "metadata": {},
     "output_type": "execute_result"
    }
   ],
   "source": [
    "#Com que és un Loop se li ha d'especificar que s'inicia a 0 perque no comenci a sumar acumuladament\n",
    "total_fruita = 0\n",
    "for fruita in compra:\n",
    "    total_fruita +=(compra[fruita][\"Qty\"])\n",
    "    \n",
    "total_fruita   "
   ]
  },
  {
   "cell_type": "markdown",
   "id": "7446d45d",
   "metadata": {},
   "source": [
    "- **Quina és la fruita més cara?**"
   ]
  },
  {
   "cell_type": "code",
   "execution_count": 178,
   "id": "3566d2c9",
   "metadata": {},
   "outputs": [
    {
     "data": {
      "text/plain": [
       "3.22"
      ]
     },
     "execution_count": 178,
     "metadata": {},
     "output_type": "execute_result"
    }
   ],
   "source": [
    "Preus_fruites = (compra[\"Pomes\"][\"€\"], compra[\"Peres\"][\"€\"], compra[\"Kiwis\"][\"€\"])\n",
    "max(Preus_fruites)"
   ]
  }
 ],
 "metadata": {
  "kernelspec": {
   "display_name": "Python 3 (ipykernel)",
   "language": "python",
   "name": "python3"
  },
  "language_info": {
   "codemirror_mode": {
    "name": "ipython",
    "version": 3
   },
   "file_extension": ".py",
   "mimetype": "text/x-python",
   "name": "python",
   "nbconvert_exporter": "python",
   "pygments_lexer": "ipython3",
   "version": "3.11.4"
  }
 },
 "nbformat": 4,
 "nbformat_minor": 5
}
