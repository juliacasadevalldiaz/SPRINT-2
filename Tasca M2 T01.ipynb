{
 "cells": [
  {
   "cell_type": "markdown",
   "id": "c049ddcc",
   "metadata": {},
   "source": [
    "# Tasca M2 T01 \n",
    "## Exercici 1\n",
    "**Crea una llista que agrupi els mesos de l’any en trimestres (1T: gener, febrer i març; 2T: abril, maig, juny...), és a dir, una llista amb 4 llistes dins.**"
   ]
  },
  {
   "cell_type": "code",
   "execution_count": 15,
   "id": "7d5ac5fe",
   "metadata": {},
   "outputs": [
    {
     "name": "stdout",
     "output_type": "stream",
     "text": [
      "[['gener', 'febrer', 'març'], ['abril', 'maig', 'juny'], ['juliol', 'agost', 'setembre'], ['octubre', 'novembre', 'desembre']]\n"
     ]
    }
   ],
   "source": [
    "T1 = [\"gener\", \"febrer\", \"març\"]\n",
    "T2 = [\"abril\", \"maig\", \"juny\"]\n",
    "T3 = [\"juliol\", \"agost\", \"setembre\"]\n",
    "T4 = [\"octubre\", \"novembre\", \"desembre\"]\n",
    "\n",
    "Trimestres = [T1, T2, T3, T4]\n",
    "print(Trimestres)"
   ]
  },
  {
   "cell_type": "markdown",
   "id": "1be52fbd",
   "metadata": {},
   "source": [
    "## - Exercici 2\n",
    "**Crea un codi que et permeti accedir a:**\n",
    "\n",
    "- **El segon mes del primer trimestre.**\n",
    "- **Els mesos del primer trimestre.**\n",
    "- **Setembre i octubre.**\n"
   ]
  },
  {
   "cell_type": "code",
   "execution_count": 14,
   "id": "ac57129d",
   "metadata": {},
   "outputs": [
    {
     "name": "stdout",
     "output_type": "stream",
     "text": [
      "febrer\n",
      "('gener', 'febrer', 'març')\n",
      "setembre octubre\n"
     ]
    }
   ],
   "source": [
    "print(Trimestres[0][-2])\n",
    "print(Trimestres[0])\n",
    "print(Trimestres[2][2], Trimestres[3][0])"
   ]
  },
  {
   "cell_type": "markdown",
   "id": "ccfa5cdd",
   "metadata": {},
   "source": [
    "## - Exercici 3\n",
    "**Crea una llista amb nombres desordenats i respon a les següents preguntes:**"
   ]
  },
  {
   "cell_type": "code",
   "execution_count": 49,
   "id": "fe770f13",
   "metadata": {},
   "outputs": [],
   "source": [
    "lista1 = [3,6,2,9,4,2,5,7,83]"
   ]
  },
  {
   "cell_type": "markdown",
   "id": "df43fa1b",
   "metadata": {},
   "source": [
    "- **Quants números hi ha?**"
   ]
  },
  {
   "cell_type": "code",
   "execution_count": 50,
   "id": "70f6c736",
   "metadata": {},
   "outputs": [],
   "source": [
    "def quants_numeros(t):\n",
    " if(len(t)) == 1:\n",
    "    print (\"Hi ha\", len(t), \"número.\")\n",
    " else:\n",
    "    print (\"Hi ha\", len(t), \"números.\")"
   ]
  },
  {
   "cell_type": "code",
   "execution_count": 51,
   "id": "37c8a3e4",
   "metadata": {},
   "outputs": [
    {
     "name": "stdout",
     "output_type": "stream",
     "text": [
      "Hi ha 9 números.\n"
     ]
    }
   ],
   "source": [
    "quants_numeros(lista1)"
   ]
  },
  {
   "cell_type": "markdown",
   "id": "4ab01c1f",
   "metadata": {},
   "source": [
    "- **Quantes vegades apareix el número 3.**"
   ]
  },
  {
   "cell_type": "code",
   "execution_count": 56,
   "id": "e09ba790",
   "metadata": {},
   "outputs": [
    {
     "name": "stdout",
     "output_type": "stream",
     "text": [
      "El número 3 apareix 1 cop.\n"
     ]
    }
   ],
   "source": [
    "calcul = lista1.count(3)\n",
    "print(\"El número 3 apareix\", calcul, \"cop.\")"
   ]
  },
  {
   "cell_type": "markdown",
   "id": "36438c06",
   "metadata": {},
   "source": [
    "- **Quantes vegades apareixen els nombres 3 i 4?**"
   ]
  },
  {
   "cell_type": "code",
   "execution_count": 65,
   "id": "4051b9d3",
   "metadata": {},
   "outputs": [],
   "source": [
    "def contador(t):\n",
    " if(calcul == 1):\n",
    "    print(\"El número 3 apareix\", calcul, \"cop.\")\n",
    " elif(calcul>1):\n",
    "    print(\"El número 3 apareix\", calcul, \"cops.\")\n",
    " if(calcul1 ==1):\n",
    "    print(\"El número 4 apareix\", calcul1, \"cop.\")\n",
    " elif(calcul1>1):\n",
    "    print(\"El número 4 apareix\", calcul, \"cops.\")\n",
    " "
   ]
  },
  {
   "cell_type": "code",
   "execution_count": 63,
   "id": "b04fafec",
   "metadata": {},
   "outputs": [
    {
     "name": "stdout",
     "output_type": "stream",
     "text": [
      "El número 3 apareix 1 cop.\n",
      "El número 4 apareix 1 cop.\n"
     ]
    }
   ],
   "source": [
    "contador(lista1)"
   ]
  },
  {
   "cell_type": "markdown",
   "id": "e943a958",
   "metadata": {},
   "source": [
    "- **Quin és el número més gran?**"
   ]
  },
  {
   "cell_type": "code",
   "execution_count": 66,
   "id": "0419fa92",
   "metadata": {},
   "outputs": [
    {
     "name": "stdout",
     "output_type": "stream",
     "text": [
      "El valor màxim de la llista és 83\n"
     ]
    }
   ],
   "source": [
    "maxim = max(lista1)\n",
    "print(\"El valor màxim de la llista és\", maxim)"
   ]
  },
  {
   "cell_type": "markdown",
   "id": "1bd5de1a",
   "metadata": {},
   "source": [
    "- **Quins són els 3 números més petits?**"
   ]
  },
  {
   "cell_type": "code",
   "execution_count": 67,
   "id": "e0234219",
   "metadata": {},
   "outputs": [
    {
     "name": "stdout",
     "output_type": "stream",
     "text": [
      "Els 3 números més petits són [2, 2, 3]\n"
     ]
    }
   ],
   "source": [
    "minims3 = sorted(lista1)[:3]\n",
    "print(\"Els 3 números més petits són\", minims3)"
   ]
  },
  {
   "cell_type": "markdown",
   "id": "002ab85f",
   "metadata": {},
   "source": [
    "- **Quin és el rang d’aquesta llista?**"
   ]
  },
  {
   "cell_type": "code",
   "execution_count": 68,
   "id": "ea51840b",
   "metadata": {},
   "outputs": [
    {
     "name": "stdout",
     "output_type": "stream",
     "text": [
      "El rang de la llista és 81\n"
     ]
    }
   ],
   "source": [
    "rang = max(lista1)-min(lista1)\n",
    "print(\"El rang de la llista és\", rang)"
   ]
  }
 ],
 "metadata": {
  "kernelspec": {
   "display_name": "Python 3 (ipykernel)",
   "language": "python",
   "name": "python3"
  },
  "language_info": {
   "codemirror_mode": {
    "name": "ipython",
    "version": 3
   },
   "file_extension": ".py",
   "mimetype": "text/x-python",
   "name": "python",
   "nbconvert_exporter": "python",
   "pygments_lexer": "ipython3",
   "version": "3.11.4"
  }
 },
 "nbformat": 4,
 "nbformat_minor": 5
}
